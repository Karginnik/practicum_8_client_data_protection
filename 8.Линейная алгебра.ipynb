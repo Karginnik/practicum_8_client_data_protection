{
 "cells": [
  {
   "cell_type": "markdown",
   "metadata": {
    "toc": true
   },
   "source": [
    "<h1>Содержание<span class=\"tocSkip\"></span></h1>\n",
    "<div class=\"toc\"><ul class=\"toc-item\"><li><span><a href=\"#Описание-данных\" data-toc-modified-id=\"Описание-данных-1\"><span class=\"toc-item-num\">1&nbsp;&nbsp;</span>Описание данных</a></span></li><li><span><a href=\"#Загрузка-данных\" data-toc-modified-id=\"Загрузка-данных-2\"><span class=\"toc-item-num\">2&nbsp;&nbsp;</span>Загрузка данных</a></span></li><li><span><a href=\"#Умножение-матриц\" data-toc-modified-id=\"Умножение-матриц-3\"><span class=\"toc-item-num\">3&nbsp;&nbsp;</span>Умножение матриц</a></span></li><li><span><a href=\"#Алгоритм-преобразования\" data-toc-modified-id=\"Алгоритм-преобразования-4\"><span class=\"toc-item-num\">4&nbsp;&nbsp;</span>Алгоритм преобразования</a></span></li><li><span><a href=\"#Проверка-алгоритма\" data-toc-modified-id=\"Проверка-алгоритма-5\"><span class=\"toc-item-num\">5&nbsp;&nbsp;</span>Проверка алгоритма</a></span></li><li><span><a href=\"#Вывод\" data-toc-modified-id=\"Вывод-6\"><span class=\"toc-item-num\">6&nbsp;&nbsp;</span>Вывод</a></span></li></ul></div>"
   ]
  },
  {
   "cell_type": "markdown",
   "metadata": {},
   "source": [
    "# Защита персональных данных клиентов"
   ]
  },
  {
   "cell_type": "markdown",
   "metadata": {},
   "source": [
    "Вам нужно защитить данные клиентов страховой компании «Хоть потоп». Разработайте такой метод преобразования данных, чтобы по ним было сложно восстановить персональную информацию. Обоснуйте корректность его работы.\n",
    "\n",
    "Нужно защитить данные, чтобы при преобразовании качество моделей машинного обучения не ухудшилось. Подбирать наилучшую модель не требуется."
   ]
  },
  {
   "cell_type": "markdown",
   "metadata": {},
   "source": [
    "## Описание данных"
   ]
  },
  {
   "cell_type": "markdown",
   "metadata": {},
   "source": [
    "**Признаки:** пол, возраст и зарплата застрахованного, количество членов его семьи.\n",
    "\n",
    "**Целевой признак:** количество страховых выплат клиенту за последние 5 лет."
   ]
  },
  {
   "cell_type": "markdown",
   "metadata": {},
   "source": [
    "## Загрузка данных"
   ]
  },
  {
   "cell_type": "markdown",
   "metadata": {},
   "source": [
    "Импортируем необходимые библиотеки"
   ]
  },
  {
   "cell_type": "code",
   "execution_count": 1,
   "metadata": {},
   "outputs": [],
   "source": [
    "import os \n",
    "import matplotlib.pyplot as plt\n",
    "import numpy as np\n",
    "import pandas as pd\n",
    "from sklearn.metrics import r2_score\n",
    "from sklearn.linear_model import LinearRegression"
   ]
  },
  {
   "cell_type": "markdown",
   "metadata": {},
   "source": [
    "Загрузим датафрейм"
   ]
  },
  {
   "cell_type": "code",
   "execution_count": 2,
   "metadata": {},
   "outputs": [],
   "source": [
    "pth = '/datasets/insurance.csv'\n",
    "\n",
    "if os.path.exists(pth):\n",
    "    data = pd.read_csv(pth)\n",
    "else:\n",
    "    print('Something is wrong')"
   ]
  },
  {
   "cell_type": "markdown",
   "metadata": {},
   "source": [
    "Выведем первые 5 строчек датафрейма и посмотрим общую информацию о нем"
   ]
  },
  {
   "cell_type": "code",
   "execution_count": 3,
   "metadata": {},
   "outputs": [
    {
     "data": {
      "text/html": [
       "<div>\n",
       "<style scoped>\n",
       "    .dataframe tbody tr th:only-of-type {\n",
       "        vertical-align: middle;\n",
       "    }\n",
       "\n",
       "    .dataframe tbody tr th {\n",
       "        vertical-align: top;\n",
       "    }\n",
       "\n",
       "    .dataframe thead th {\n",
       "        text-align: right;\n",
       "    }\n",
       "</style>\n",
       "<table border=\"1\" class=\"dataframe\">\n",
       "  <thead>\n",
       "    <tr style=\"text-align: right;\">\n",
       "      <th></th>\n",
       "      <th>Пол</th>\n",
       "      <th>Возраст</th>\n",
       "      <th>Зарплата</th>\n",
       "      <th>Члены семьи</th>\n",
       "      <th>Страховые выплаты</th>\n",
       "    </tr>\n",
       "  </thead>\n",
       "  <tbody>\n",
       "    <tr>\n",
       "      <th>0</th>\n",
       "      <td>1</td>\n",
       "      <td>41.0</td>\n",
       "      <td>49600.0</td>\n",
       "      <td>1</td>\n",
       "      <td>0</td>\n",
       "    </tr>\n",
       "    <tr>\n",
       "      <th>1</th>\n",
       "      <td>0</td>\n",
       "      <td>46.0</td>\n",
       "      <td>38000.0</td>\n",
       "      <td>1</td>\n",
       "      <td>1</td>\n",
       "    </tr>\n",
       "    <tr>\n",
       "      <th>2</th>\n",
       "      <td>0</td>\n",
       "      <td>29.0</td>\n",
       "      <td>21000.0</td>\n",
       "      <td>0</td>\n",
       "      <td>0</td>\n",
       "    </tr>\n",
       "    <tr>\n",
       "      <th>3</th>\n",
       "      <td>0</td>\n",
       "      <td>21.0</td>\n",
       "      <td>41700.0</td>\n",
       "      <td>2</td>\n",
       "      <td>0</td>\n",
       "    </tr>\n",
       "    <tr>\n",
       "      <th>4</th>\n",
       "      <td>1</td>\n",
       "      <td>28.0</td>\n",
       "      <td>26100.0</td>\n",
       "      <td>0</td>\n",
       "      <td>0</td>\n",
       "    </tr>\n",
       "  </tbody>\n",
       "</table>\n",
       "</div>"
      ],
      "text/plain": [
       "   Пол  Возраст  Зарплата  Члены семьи  Страховые выплаты\n",
       "0    1     41.0   49600.0            1                  0\n",
       "1    0     46.0   38000.0            1                  1\n",
       "2    0     29.0   21000.0            0                  0\n",
       "3    0     21.0   41700.0            2                  0\n",
       "4    1     28.0   26100.0            0                  0"
      ]
     },
     "execution_count": 3,
     "metadata": {},
     "output_type": "execute_result"
    }
   ],
   "source": [
    "data.head()"
   ]
  },
  {
   "cell_type": "code",
   "execution_count": 4,
   "metadata": {
    "scrolled": true
   },
   "outputs": [
    {
     "name": "stdout",
     "output_type": "stream",
     "text": [
      "<class 'pandas.core.frame.DataFrame'>\n",
      "RangeIndex: 5000 entries, 0 to 4999\n",
      "Data columns (total 5 columns):\n",
      " #   Column             Non-Null Count  Dtype  \n",
      "---  ------             --------------  -----  \n",
      " 0   Пол                5000 non-null   int64  \n",
      " 1   Возраст            5000 non-null   float64\n",
      " 2   Зарплата           5000 non-null   float64\n",
      " 3   Члены семьи        5000 non-null   int64  \n",
      " 4   Страховые выплаты  5000 non-null   int64  \n",
      "dtypes: float64(2), int64(3)\n",
      "memory usage: 195.4 KB\n"
     ]
    }
   ],
   "source": [
    "data.info()"
   ]
  },
  {
   "cell_type": "markdown",
   "metadata": {},
   "source": [
    "Переменяем названия столбцов в соответствии со змеином стилем для удобства работы со столбцами  "
   ]
  },
  {
   "cell_type": "code",
   "execution_count": 5,
   "metadata": {},
   "outputs": [],
   "source": [
    "data = data.rename(columns={\n",
    "    'Пол':'gender',\n",
    "    'Возраст':'age',\n",
    "    'Зарплата':'salary',\n",
    "    'Члены семьи':'family_member',\n",
    "    'Страховые выплаты': 'insurance_payments'\n",
    "})"
   ]
  },
  {
   "cell_type": "markdown",
   "metadata": {},
   "source": [
    "Заменим тип данных для колонки “age” и ”salary”"
   ]
  },
  {
   "cell_type": "code",
   "execution_count": 6,
   "metadata": {},
   "outputs": [],
   "source": [
    "data['age'] = data['age'].astype('int')\n",
    "data['salary'] = data['salary'].astype('int')"
   ]
  },
  {
   "cell_type": "markdown",
   "metadata": {},
   "source": [
    "Посмотрим на количество пропусков в датафрейме"
   ]
  },
  {
   "cell_type": "code",
   "execution_count": 7,
   "metadata": {},
   "outputs": [
    {
     "data": {
      "text/plain": [
       "gender                0\n",
       "age                   0\n",
       "salary                0\n",
       "family_member         0\n",
       "insurance_payments    0\n",
       "dtype: int64"
      ]
     },
     "execution_count": 7,
     "metadata": {},
     "output_type": "execute_result"
    }
   ],
   "source": [
    "data.isna().sum()"
   ]
  },
  {
   "cell_type": "markdown",
   "metadata": {},
   "source": [
    "Пропуски отсутствуют "
   ]
  },
  {
   "cell_type": "markdown",
   "metadata": {},
   "source": [
    "Найдем явные дубликаты в датафрейме "
   ]
  },
  {
   "cell_type": "code",
   "execution_count": 8,
   "metadata": {
    "scrolled": true
   },
   "outputs": [
    {
     "data": {
      "text/plain": [
       "153"
      ]
     },
     "execution_count": 8,
     "metadata": {},
     "output_type": "execute_result"
    }
   ],
   "source": [
    "data.duplicated().sum()"
   ]
  },
  {
   "cell_type": "markdown",
   "metadata": {},
   "source": [
    "Обнаружены 153 дубликата, но из-за того что датафрейм не содержит такую персональную информацию как ФИО, утверждать что это одни и те же люди невозможно, поэтому не будем их убирать"
   ]
  },
  {
   "cell_type": "markdown",
   "metadata": {},
   "source": [
    "Проверим датафрейм на выбросы"
   ]
  },
  {
   "cell_type": "code",
   "execution_count": 9,
   "metadata": {},
   "outputs": [
    {
     "data": {
      "text/plain": [
       "array([1, 0])"
      ]
     },
     "execution_count": 9,
     "metadata": {},
     "output_type": "execute_result"
    }
   ],
   "source": [
    "data['gender'].unique()"
   ]
  },
  {
   "cell_type": "markdown",
   "metadata": {},
   "source": [
    "Выбросов не обнаружено "
   ]
  },
  {
   "cell_type": "code",
   "execution_count": 10,
   "metadata": {},
   "outputs": [
    {
     "data": {
      "text/plain": [
       "array([0, 1, 2, 3, 5, 4])"
      ]
     },
     "execution_count": 10,
     "metadata": {},
     "output_type": "execute_result"
    }
   ],
   "source": [
    "data['insurance_payments'].unique()"
   ]
  },
  {
   "cell_type": "markdown",
   "metadata": {},
   "source": [
    "Выбросов не обнаружено"
   ]
  },
  {
   "cell_type": "code",
   "execution_count": 11,
   "metadata": {},
   "outputs": [
    {
     "data": {
      "text/plain": [
       "array([1, 0, 2, 4, 3, 5, 6])"
      ]
     },
     "execution_count": 11,
     "metadata": {},
     "output_type": "execute_result"
    }
   ],
   "source": [
    "data['family_member'].unique()"
   ]
  },
  {
   "cell_type": "markdown",
   "metadata": {},
   "source": [
    "Выбросов не обнаружено "
   ]
  },
  {
   "cell_type": "code",
   "execution_count": 12,
   "metadata": {},
   "outputs": [
    {
     "data": {
      "image/png": "[encoded data removed]",
      "text/plain": [
       "<Figure size 432x288 with 1 Axes>"
      ]
     },
     "metadata": {
      "needs_background": "light"
     },
     "output_type": "display_data"
    }
   ],
   "source": [
    "data.boxplot(column='age')\n",
    "plt.title('\"Ящик с усами\" для данных о возрасте');"
   ]
  },
  {
   "cell_type": "markdown",
   "metadata": {},
   "source": [
    "Ящик с усами показывает некое количество выбросов, но они в находятся в пределах нормы, убирать эти значения мы не будем "
   ]
  },
  {
   "cell_type": "code",
   "execution_count": 13,
   "metadata": {},
   "outputs": [
    {
     "data": {
      "image/png": "[encoded data removed]",
      "text/plain": [
       "<Figure size 432x288 with 1 Axes>"
      ]
     },
     "metadata": {
      "needs_background": "light"
     },
     "output_type": "display_data"
    }
   ],
   "source": [
    "data.boxplot(column='salary')\n",
    "plt.title('\"Ящик с усами\" для данных о зарплате');"
   ]
  },
  {
   "cell_type": "markdown",
   "metadata": {},
   "source": [
    "Ящик с усами показывает некое количество выбросов, но они в находятся в пределах нормы, убирать эти значения мы не будем "
   ]
  },
  {
   "cell_type": "markdown",
   "metadata": {},
   "source": [
    "**Вывод:** В данном разделе были изменены названия колонок датафрейма, тип данных колонок “age” и ”salary”. Пропуски, явные дубликаты и выбросы обнаружены не были"
   ]
  },
  {
   "cell_type": "markdown",
   "metadata": {},
   "source": [
    "## Умножение матриц"
   ]
  },
  {
   "cell_type": "markdown",
   "metadata": {},
   "source": [
    "В этом задании вы можете записывать формулы в *Jupyter Notebook.*\n",
    "\n",
    "Чтобы записать формулу внутри текста, окружите её символами доллара \\\\$; если снаружи —  двойными символами \\\\$\\\\$. Эти формулы записываются на языке вёрстки *LaTeX.* \n",
    "\n",
    "Для примера мы записали формулы линейной регрессии. Можете их скопировать и отредактировать, чтобы решить задачу.\n",
    "\n",
    "Работать в *LaTeX* необязательно."
   ]
  },
  {
   "cell_type": "markdown",
   "metadata": {},
   "source": [
    "Обозначения:\n",
    "\n",
    "- $X$ — матрица признаков (нулевой столбец состоит из единиц)\n",
    "\n",
    "- $y$ — вектор целевого признака\n",
    "\n",
    "- $P$ — матрица, на которую умножаются признаки\n",
    "\n",
    "- $w$ — вектор весов линейной регрессии (нулевой элемент равен сдвигу)\n",
    "\n",
    "- $E$ — единичная матрица"
   ]
  },
  {
   "cell_type": "markdown",
   "metadata": {},
   "source": [
    "Предсказания:\n",
    "\n",
    "$$\n",
    "a = Xw\n",
    "$$\n",
    "\n",
    "Задача обучения:\n",
    "\n",
    "$$\n",
    "w = \\arg\\min_w MSE(Xw, y)\n",
    "$$\n",
    "\n",
    "Формула обучения:\n",
    "\n",
    "$$\n",
    "w = (X^T X)^{-1} X^T y\n",
    "$$"
   ]
  },
  {
   "cell_type": "markdown",
   "metadata": {},
   "source": [
    "**Ответ:** Не изменится\n",
    "\n",
    "**Обоснование:** Представим умножение признаков на обратимую матрицу как: \n",
    "\n",
    "$$\n",
    "M = XP\n",
    "$$\n",
    "\n",
    "Подставим матрицу в формулу обучения и раскроем ее:\n",
    "\n",
    "$$\n",
    "w_p = (M^T M)^{-1} M^T y\n",
    "$$\n",
    "\n",
    "$$\n",
    "w_p = ((XP)^T (XP))^{-1} (XP)^T y\n",
    "$$\n",
    "\n",
    "(1) Из свойтва транспонирования мы знаем что:\n",
    "\n",
    "$$\n",
    "(AB)^T = B^T A^T\n",
    "$$\n",
    "\n",
    "И раскроем скобки для нашей формулы:\n",
    "\n",
    "$$\n",
    "w_p = (P^T X^T XP)^{-1} P^T X^T y = (P^T (X^T X) P)^{-1} P^T X^T y \n",
    "$$\n",
    "\n",
    "(2) Из свойства обратной матрицы мы знаем что:\n",
    "\n",
    "$$\n",
    "(AB)^{-1} = B^{-1} A^{-1}\n",
    "$$\n",
    "\n",
    "И еще раз раскроем скобки для нашей формулы:\n",
    "\n",
    "$$\n",
    "w_p = P^{-1} (X^T X)^{-1} (P^T)^{-1} P^T X^T y \n",
    "$$\n",
    "\n",
    "(3) Для дальнейшего преобразования на пригодятся свойство:\n",
    "\n",
    "$$\n",
    "A A^{-1} = A^{-1} A = E\n",
    "$$\n",
    "\n",
    "(4) И свойство: \n",
    "\n",
    "$$\n",
    "A E = E A = A\n",
    "$$\n",
    "\n",
    "Из свойства (3) получается что:\n",
    "$$\n",
    "(P^T)^{-1} P^T = E\n",
    "$$\n",
    "\n",
    "Применим полученый результат и сгруппируем X:\n",
    "\n",
    "$$\n",
    "w_p = P^{-1} (X^T X)^{-1} E X^T y = P^{-1} (X^T X)^{-1} X^T y\n",
    "$$\n",
    "\n",
    "Применим свойство (4) и представим левую часть уравнения как формулу обучения:\n",
    "\n",
    "$$\n",
    "w_p = P^{-1} w\n",
    "$$\n",
    "\n",
    "Формула для предсказания в нашем случае выглядит так:\n",
    "\n",
    "$$\n",
    "a = M w_p\n",
    "$$\n",
    "\n",
    "Подставим раннее полученные значения и преобразуем формулу из свойства (3) и (4):\n",
    "\n",
    "$$\n",
    "a = X P P^{-1} w\n",
    "$$\n",
    "\n",
    "$$\n",
    "a = X E w\n",
    "$$\n",
    "\n",
    "$$\n",
    "a = X w\n",
    "$$\n",
    "\n",
    "**Получилась изначальная формула для обучения**"
   ]
  },
  {
   "cell_type": "markdown",
   "metadata": {},
   "source": [
    "## Алгоритм преобразования"
   ]
  },
  {
   "cell_type": "markdown",
   "metadata": {},
   "source": [
    "**Алгоритм**\n",
    "\n",
    "Выборка на признаками умножаются на обратимую матрицу размером 4 х 4"
   ]
  },
  {
   "cell_type": "markdown",
   "metadata": {},
   "source": [
    "**Обоснование**\n",
    "\n",
    "1) Доказательство из пункта \"Умножение матриц\": Умножение матрицы на обратимую матрицу не повлияет на качество модели\n",
    "\n",
    "2) Правило умножения матриц: Для того чтобы не добавить лишние столбцы, было принято взять матрицу размером \"количество столбцов выборке с персональными данными х количество столбцов выборке с персональными данными\" (4x4)\n",
    "\n",
    "3) Поскольку данные умножаются на случайно сгенерированную матрицу, умножать весь датафрейм нельзя, так как целевые значения будут менятся при каждом запуске алгоритма "
   ]
  },
  {
   "cell_type": "markdown",
   "metadata": {},
   "source": [
    "## Проверка алгоритма"
   ]
  },
  {
   "cell_type": "markdown",
   "metadata": {},
   "source": [
    "Разделим датафрейм на выборку с признаками и на выборку с целевым признаком"
   ]
  },
  {
   "cell_type": "code",
   "execution_count": 14,
   "metadata": {},
   "outputs": [],
   "source": [
    "features = data.drop('insurance_payments', axis=1)\n",
    "target = data['insurance_payments']"
   ]
  },
  {
   "cell_type": "markdown",
   "metadata": {},
   "source": [
    "Обучим модель линейной регрессии и найдем значение R2 - метрики"
   ]
  },
  {
   "cell_type": "code",
   "execution_count": 15,
   "metadata": {
    "scrolled": true
   },
   "outputs": [
    {
     "data": {
      "text/plain": [
       "0.42494550308169177"
      ]
     },
     "execution_count": 15,
     "metadata": {},
     "output_type": "execute_result"
    }
   ],
   "source": [
    "model = LinearRegression()\n",
    "model.fit(features, target)\n",
    "predict = model.predict(features)\n",
    "r2_first = r2_score(target, predict)\n",
    "r2_first"
   ]
  },
  {
   "cell_type": "markdown",
   "metadata": {},
   "source": [
    "Применим предложенный алгоритм преобразования на выборке с признаками и убедимся что размер выборки не изменился"
   ]
  },
  {
   "cell_type": "code",
   "execution_count": 16,
   "metadata": {},
   "outputs": [
    {
     "data": {
      "text/plain": [
       "(5000, 4)"
      ]
     },
     "execution_count": 16,
     "metadata": {},
     "output_type": "execute_result"
    }
   ],
   "source": [
    "random_array = np.random.normal(size=(4,4))\n",
    "\n",
    "try:\n",
    "    np.linalg.inv(random_array)\n",
    "except:\n",
    "    print('Упс, сгенерировалась необратимая матрица')\n",
    "    \n",
    "features_new = np.array(features) @ random_array\n",
    "features_new.shape"
   ]
  },
  {
   "cell_type": "markdown",
   "metadata": {},
   "source": [
    "Обучим модель линейной регрессии на измененной выборке и найдем значение R2 - метрики"
   ]
  },
  {
   "cell_type": "code",
   "execution_count": 17,
   "metadata": {},
   "outputs": [
    {
     "data": {
      "text/plain": [
       "0.42494550308169055"
      ]
     },
     "execution_count": 17,
     "metadata": {},
     "output_type": "execute_result"
    }
   ],
   "source": [
    "model.fit(features_new, target)\n",
    "predict = model.predict(features_new)\n",
    "r2_second = r2_score(target, predict)\n",
    "r2_second"
   ]
  },
  {
   "cell_type": "markdown",
   "metadata": {},
   "source": [
    "Найдем разницу полученных R2 - метрик"
   ]
  },
  {
   "cell_type": "code",
   "execution_count": 18,
   "metadata": {},
   "outputs": [
    {
     "data": {
      "text/plain": [
       "1.2212453270876722e-15"
      ]
     },
     "execution_count": 18,
     "metadata": {},
     "output_type": "execute_result"
    }
   ],
   "source": [
    "variance = r2_first - r2_second\n",
    "variance"
   ]
  },
  {
   "cell_type": "markdown",
   "metadata": {},
   "source": [
    "Отличие в полученных значениях R2-метрик начинается только после 15 знака, поэтому это отличие можно считать несущественным"
   ]
  },
  {
   "cell_type": "markdown",
   "metadata": {},
   "source": [
    "**Вывод:** Обучив 2 модели линейной регрессии с алгоритмом преобразования и без алгоритма преобразования мы получаем различие R2 - метрик только после 15 знака, поэтому можно утверждать, что применение алгоритма преобразования данных не влияет на качество обучаемой модели. "
   ]
  },
  {
   "cell_type": "markdown",
   "metadata": {},
   "source": [
    "## Вывод"
   ]
  },
  {
   "cell_type": "markdown",
   "metadata": {},
   "source": [
    "В разделе \"Загрузка данных\" был загружен и изучен датафрейм. Были изменены названия колонок датафрейма, тип данных колонок “age” и ”salary”. Пропуски, явные дубликаты и выбросы обнаружены не были.\n",
    "\n",
    "В разделе \"Умножение матриц\" математически был получен ответ на главный вопрос исследования: Умножение данных на обратимую матрицу не влияет на качество обучаемой модели.\n",
    "\n",
    "В разделе \"Алгоритм преобразования\" был предложен алгоритм преобразования данных: Выборка с признаками клиентов умножаются на матрицу 4х4. Размер матрицы подобран для того, чтобы не менять количество столбцов и строчек. Алгоритм не применяется к выборке с таргетными признаками из-за того, что таргетные признаки будут меняться при каждом запуске алгоритма.\n",
    "\n",
    "В разделе \"Проверка алгоритма\" эмпирическим путем было доказано утверждение из раздела \"Умножение матриц\". Обучив 2 модели линейной регрессии с алгоритмом преобразования и без алгоритма преобразования мы получаем различие R2 - метрик только после 15 знака, поэтому можно утверждать, что применение алгоритма преобразования данных не влияет на качество обучаемой модели."
   ]
  }
 ],
 "metadata": {
  "ExecuteTimeLog": [
   {
    "duration": 377,
    "start_time": "2023-03-01T09:34:49.054Z"
   },
   {
    "duration": 60,
    "start_time": "2023-03-01T09:36:20.564Z"
   },
   {
    "duration": 87,
    "start_time": "2023-03-01T09:36:34.280Z"
   },
   {
    "duration": 16,
    "start_time": "2023-03-01T09:36:42.635Z"
   },
   {
    "duration": 12,
    "start_time": "2023-03-01T09:36:50.763Z"
   },
   {
    "duration": 14,
    "start_time": "2023-03-01T09:38:45.464Z"
   },
   {
    "duration": 7,
    "start_time": "2023-03-01T09:38:54.839Z"
   },
   {
    "duration": 6,
    "start_time": "2023-03-01T09:39:07.146Z"
   },
   {
    "duration": 7,
    "start_time": "2023-03-01T09:39:41.627Z"
   },
   {
    "duration": 6,
    "start_time": "2023-03-01T09:39:48.234Z"
   },
   {
    "duration": 968,
    "start_time": "2023-03-01T09:42:16.041Z"
   },
   {
    "duration": 419,
    "start_time": "2023-03-01T09:42:27.344Z"
   },
   {
    "duration": 2,
    "start_time": "2023-03-01T10:42:12.205Z"
   },
   {
    "duration": 592,
    "start_time": "2023-03-01T10:50:24.957Z"
   },
   {
    "duration": 263,
    "start_time": "2023-03-01T10:51:31.274Z"
   },
   {
    "duration": 9,
    "start_time": "2023-03-01T10:57:04.533Z"
   },
   {
    "duration": 4,
    "start_time": "2023-03-01T10:57:05.833Z"
   },
   {
    "duration": 12,
    "start_time": "2023-03-01T10:57:06.713Z"
   },
   {
    "duration": 6,
    "start_time": "2023-03-01T10:57:10.939Z"
   },
   {
    "duration": 7,
    "start_time": "2023-03-01T10:57:14.235Z"
   },
   {
    "duration": 8,
    "start_time": "2023-03-01T10:57:26.841Z"
   },
   {
    "duration": 1102,
    "start_time": "2023-03-01T10:57:39.336Z"
   },
   {
    "duration": 25,
    "start_time": "2023-03-01T10:57:40.441Z"
   },
   {
    "duration": 15,
    "start_time": "2023-03-01T10:57:40.468Z"
   },
   {
    "duration": 8,
    "start_time": "2023-03-01T10:57:40.485Z"
   },
   {
    "duration": 14,
    "start_time": "2023-03-01T10:57:40.495Z"
   },
   {
    "duration": 17,
    "start_time": "2023-03-01T10:57:40.511Z"
   },
   {
    "duration": 7,
    "start_time": "2023-03-01T10:57:40.530Z"
   },
   {
    "duration": 6,
    "start_time": "2023-03-01T10:57:40.539Z"
   },
   {
    "duration": 108,
    "start_time": "2023-03-01T10:57:40.547Z"
   },
   {
    "duration": 4,
    "start_time": "2023-03-01T10:58:27.432Z"
   },
   {
    "duration": 10,
    "start_time": "2023-03-01T10:58:37.744Z"
   },
   {
    "duration": 4,
    "start_time": "2023-03-01T10:58:47.425Z"
   },
   {
    "duration": 18,
    "start_time": "2023-03-01T11:04:14.565Z"
   },
   {
    "duration": 4,
    "start_time": "2023-03-01T11:08:23.234Z"
   },
   {
    "duration": 5,
    "start_time": "2023-03-01T11:08:28.038Z"
   },
   {
    "duration": 87,
    "start_time": "2023-03-01T11:09:00.935Z"
   },
   {
    "duration": 79,
    "start_time": "2023-03-01T11:09:32.174Z"
   },
   {
    "duration": 521,
    "start_time": "2023-03-01T11:10:22.245Z"
   },
   {
    "duration": 511,
    "start_time": "2023-03-01T11:10:59.736Z"
   },
   {
    "duration": 442,
    "start_time": "2023-03-01T11:11:19.285Z"
   },
   {
    "duration": 483,
    "start_time": "2023-03-01T11:11:25.540Z"
   },
   {
    "duration": 6,
    "start_time": "2023-03-01T11:12:17.748Z"
   },
   {
    "duration": 4,
    "start_time": "2023-03-01T11:12:23.204Z"
   },
   {
    "duration": 15,
    "start_time": "2023-03-01T11:12:27.467Z"
   },
   {
    "duration": 40,
    "start_time": "2023-03-01T11:12:49.683Z"
   },
   {
    "duration": 25,
    "start_time": "2023-03-01T11:15:02.019Z"
   },
   {
    "duration": 11,
    "start_time": "2023-03-01T11:15:13.056Z"
   },
   {
    "duration": 15,
    "start_time": "2023-03-01T11:16:51.847Z"
   },
   {
    "duration": 28,
    "start_time": "2023-03-01T11:16:59.119Z"
   },
   {
    "duration": 14,
    "start_time": "2023-03-01T11:17:12.270Z"
   },
   {
    "duration": 17,
    "start_time": "2023-03-01T11:24:53.417Z"
   },
   {
    "duration": 18,
    "start_time": "2023-03-01T11:24:58.306Z"
   },
   {
    "duration": 14,
    "start_time": "2023-03-01T11:25:02.456Z"
   },
   {
    "duration": 16,
    "start_time": "2023-03-01T11:25:04.304Z"
   },
   {
    "duration": 16,
    "start_time": "2023-03-01T11:25:06.378Z"
   },
   {
    "duration": 18,
    "start_time": "2023-03-01T11:25:08.393Z"
   },
   {
    "duration": 14,
    "start_time": "2023-03-01T11:26:00.903Z"
   },
   {
    "duration": 14,
    "start_time": "2023-03-01T11:26:04.407Z"
   },
   {
    "duration": 13,
    "start_time": "2023-03-01T11:26:07.697Z"
   },
   {
    "duration": 4,
    "start_time": "2023-03-01T11:27:01.408Z"
   },
   {
    "duration": 12,
    "start_time": "2023-03-01T11:27:04.919Z"
   },
   {
    "duration": 53,
    "start_time": "2023-03-01T11:27:09.167Z"
   },
   {
    "duration": 4,
    "start_time": "2023-03-01T11:27:36.166Z"
   },
   {
    "duration": 10,
    "start_time": "2023-03-01T11:27:42.716Z"
   },
   {
    "duration": 1107,
    "start_time": "2023-03-01T11:28:58.140Z"
   },
   {
    "duration": 25,
    "start_time": "2023-03-01T11:28:59.249Z"
   },
   {
    "duration": 15,
    "start_time": "2023-03-01T11:28:59.276Z"
   },
   {
    "duration": 54,
    "start_time": "2023-03-01T11:28:59.293Z"
   },
   {
    "duration": 57,
    "start_time": "2023-03-01T11:28:59.350Z"
   },
   {
    "duration": 36,
    "start_time": "2023-03-01T11:28:59.409Z"
   },
   {
    "duration": 16,
    "start_time": "2023-03-01T11:28:59.447Z"
   },
   {
    "duration": 14,
    "start_time": "2023-03-01T11:28:59.465Z"
   },
   {
    "duration": 12,
    "start_time": "2023-03-01T11:28:59.481Z"
   },
   {
    "duration": 20,
    "start_time": "2023-03-01T11:28:59.494Z"
   },
   {
    "duration": 307,
    "start_time": "2023-03-01T11:28:59.522Z"
   },
   {
    "duration": 12,
    "start_time": "2023-03-01T11:30:49.118Z"
   },
   {
    "duration": 12,
    "start_time": "2023-03-01T11:30:59.292Z"
   },
   {
    "duration": 11,
    "start_time": "2023-03-01T11:31:02.198Z"
   },
   {
    "duration": 16,
    "start_time": "2023-03-01T11:33:35.898Z"
   },
   {
    "duration": 15,
    "start_time": "2023-03-01T11:33:44.187Z"
   },
   {
    "duration": 15,
    "start_time": "2023-03-01T11:33:47.134Z"
   },
   {
    "duration": 14,
    "start_time": "2023-03-01T11:34:02.611Z"
   },
   {
    "duration": 10,
    "start_time": "2023-03-01T11:36:36.545Z"
   },
   {
    "duration": 64,
    "start_time": "2023-03-01T11:36:41.035Z"
   },
   {
    "duration": 10,
    "start_time": "2023-03-01T12:03:42.713Z"
   },
   {
    "duration": 1078,
    "start_time": "2023-03-01T12:03:47.275Z"
   },
   {
    "duration": 29,
    "start_time": "2023-03-01T12:03:48.355Z"
   },
   {
    "duration": 16,
    "start_time": "2023-03-01T12:03:48.386Z"
   },
   {
    "duration": 29,
    "start_time": "2023-03-01T12:03:48.403Z"
   },
   {
    "duration": 16,
    "start_time": "2023-03-01T12:03:48.434Z"
   },
   {
    "duration": 23,
    "start_time": "2023-03-01T12:03:48.452Z"
   },
   {
    "duration": 9,
    "start_time": "2023-03-01T12:03:48.477Z"
   },
   {
    "duration": 15,
    "start_time": "2023-03-01T12:03:48.488Z"
   },
   {
    "duration": 5,
    "start_time": "2023-03-01T12:03:48.505Z"
   },
   {
    "duration": 46,
    "start_time": "2023-03-01T12:03:48.512Z"
   },
   {
    "duration": 325,
    "start_time": "2023-03-01T12:03:48.560Z"
   },
   {
    "duration": 4,
    "start_time": "2023-03-01T12:04:20.594Z"
   },
   {
    "duration": 9,
    "start_time": "2023-03-01T12:04:21.680Z"
   },
   {
    "duration": 5,
    "start_time": "2023-03-01T12:04:51.937Z"
   },
   {
    "duration": 8,
    "start_time": "2023-03-01T12:04:52.450Z"
   },
   {
    "duration": 13,
    "start_time": "2023-03-01T12:05:06.034Z"
   },
   {
    "duration": 1081,
    "start_time": "2023-03-01T12:05:15.748Z"
   },
   {
    "duration": 33,
    "start_time": "2023-03-01T12:05:16.833Z"
   },
   {
    "duration": 16,
    "start_time": "2023-03-01T12:05:16.867Z"
   },
   {
    "duration": 11,
    "start_time": "2023-03-01T12:05:16.885Z"
   },
   {
    "duration": 7,
    "start_time": "2023-03-01T12:05:16.898Z"
   },
   {
    "duration": 32,
    "start_time": "2023-03-01T12:05:16.906Z"
   },
   {
    "duration": 15,
    "start_time": "2023-03-01T12:05:16.940Z"
   },
   {
    "duration": 9,
    "start_time": "2023-03-01T12:05:16.957Z"
   },
   {
    "duration": 10,
    "start_time": "2023-03-01T12:05:16.968Z"
   },
   {
    "duration": 7,
    "start_time": "2023-03-01T12:05:16.979Z"
   },
   {
    "duration": 47,
    "start_time": "2023-03-01T12:05:16.987Z"
   },
   {
    "duration": 256,
    "start_time": "2023-03-01T12:05:17.036Z"
   },
   {
    "duration": 9,
    "start_time": "2023-03-01T16:05:47.945Z"
   },
   {
    "duration": 13,
    "start_time": "2023-03-01T16:05:53.189Z"
   },
   {
    "duration": 10,
    "start_time": "2023-03-01T16:05:59.466Z"
   },
   {
    "duration": 13,
    "start_time": "2023-03-01T16:06:05.201Z"
   },
   {
    "duration": 9,
    "start_time": "2023-03-01T16:06:09.927Z"
   },
   {
    "duration": 9,
    "start_time": "2023-03-01T16:06:48.241Z"
   },
   {
    "duration": 10,
    "start_time": "2023-03-01T16:06:52.266Z"
   },
   {
    "duration": 11,
    "start_time": "2023-03-01T16:07:01.977Z"
   },
   {
    "duration": 9,
    "start_time": "2023-03-01T16:07:07.273Z"
   },
   {
    "duration": 78,
    "start_time": "2023-03-01T16:07:14.745Z"
   },
   {
    "duration": 9,
    "start_time": "2023-03-01T16:07:36.745Z"
   },
   {
    "duration": 12,
    "start_time": "2023-03-01T16:07:45.673Z"
   },
   {
    "duration": 10,
    "start_time": "2023-03-01T16:07:50.017Z"
   },
   {
    "duration": 10,
    "start_time": "2023-03-01T16:08:00.737Z"
   },
   {
    "duration": 10,
    "start_time": "2023-03-01T16:08:44.720Z"
   },
   {
    "duration": 980,
    "start_time": "2023-03-01T16:08:52.177Z"
   },
   {
    "duration": 24,
    "start_time": "2023-03-01T16:08:53.160Z"
   },
   {
    "duration": 13,
    "start_time": "2023-03-01T16:08:53.186Z"
   },
   {
    "duration": 27,
    "start_time": "2023-03-01T16:08:53.200Z"
   },
   {
    "duration": 14,
    "start_time": "2023-03-01T16:08:53.228Z"
   },
   {
    "duration": 14,
    "start_time": "2023-03-01T16:08:53.244Z"
   },
   {
    "duration": 12,
    "start_time": "2023-03-01T16:08:53.260Z"
   },
   {
    "duration": 8,
    "start_time": "2023-03-01T16:08:53.273Z"
   },
   {
    "duration": 18,
    "start_time": "2023-03-01T16:08:53.283Z"
   },
   {
    "duration": 28,
    "start_time": "2023-03-01T16:08:53.302Z"
   },
   {
    "duration": 18,
    "start_time": "2023-03-01T16:08:53.331Z"
   },
   {
    "duration": 256,
    "start_time": "2023-03-01T16:08:53.350Z"
   },
   {
    "duration": 26,
    "start_time": "2023-03-01T16:09:03.800Z"
   },
   {
    "duration": 10,
    "start_time": "2023-03-01T16:12:01.352Z"
   },
   {
    "duration": 1085,
    "start_time": "2023-03-01T16:12:05.500Z"
   },
   {
    "duration": 26,
    "start_time": "2023-03-01T16:12:06.587Z"
   },
   {
    "duration": 16,
    "start_time": "2023-03-01T16:12:06.615Z"
   },
   {
    "duration": 14,
    "start_time": "2023-03-01T16:12:06.632Z"
   },
   {
    "duration": 9,
    "start_time": "2023-03-01T16:12:06.648Z"
   },
   {
    "duration": 22,
    "start_time": "2023-03-01T16:12:06.658Z"
   },
   {
    "duration": 78,
    "start_time": "2023-03-01T16:12:06.681Z"
   },
   {
    "duration": 65,
    "start_time": "2023-03-01T16:12:06.760Z"
   },
   {
    "duration": 23,
    "start_time": "2023-03-01T16:12:06.826Z"
   },
   {
    "duration": 4,
    "start_time": "2023-03-01T16:12:06.851Z"
   },
   {
    "duration": 67,
    "start_time": "2023-03-01T16:12:06.857Z"
   },
   {
    "duration": 120,
    "start_time": "2023-03-01T16:12:06.925Z"
   },
   {
    "duration": 89,
    "start_time": "2023-03-01T16:13:11.280Z"
   },
   {
    "duration": 1009,
    "start_time": "2023-03-01T16:13:18.759Z"
   },
   {
    "duration": 26,
    "start_time": "2023-03-01T16:13:19.770Z"
   },
   {
    "duration": 15,
    "start_time": "2023-03-01T16:13:19.797Z"
   },
   {
    "duration": 10,
    "start_time": "2023-03-01T16:13:19.814Z"
   },
   {
    "duration": 3,
    "start_time": "2023-03-01T16:13:19.827Z"
   },
   {
    "duration": 7,
    "start_time": "2023-03-01T16:13:19.832Z"
   },
   {
    "duration": 13,
    "start_time": "2023-03-01T16:13:19.840Z"
   },
   {
    "duration": 10,
    "start_time": "2023-03-01T16:13:19.854Z"
   },
   {
    "duration": 24,
    "start_time": "2023-03-01T16:13:19.866Z"
   },
   {
    "duration": 19,
    "start_time": "2023-03-01T16:13:19.891Z"
   },
   {
    "duration": 28,
    "start_time": "2023-03-01T16:13:19.912Z"
   },
   {
    "duration": 185,
    "start_time": "2023-03-01T16:13:19.941Z"
   },
   {
    "duration": 281,
    "start_time": "2023-03-01T16:13:20.128Z"
   },
   {
    "duration": 4,
    "start_time": "2023-03-01T16:13:28.799Z"
   },
   {
    "duration": 10,
    "start_time": "2023-03-01T16:14:20.206Z"
   },
   {
    "duration": 1081,
    "start_time": "2023-03-01T16:14:40.035Z"
   },
   {
    "duration": 27,
    "start_time": "2023-03-01T16:14:41.118Z"
   },
   {
    "duration": 59,
    "start_time": "2023-03-01T16:14:41.146Z"
   },
   {
    "duration": 52,
    "start_time": "2023-03-01T16:14:41.206Z"
   },
   {
    "duration": 27,
    "start_time": "2023-03-01T16:14:41.261Z"
   },
   {
    "duration": 28,
    "start_time": "2023-03-01T16:14:41.290Z"
   },
   {
    "duration": 21,
    "start_time": "2023-03-01T16:14:41.320Z"
   },
   {
    "duration": 41,
    "start_time": "2023-03-01T16:14:41.342Z"
   },
   {
    "duration": 25,
    "start_time": "2023-03-01T16:14:41.384Z"
   },
   {
    "duration": 17,
    "start_time": "2023-03-01T16:14:41.411Z"
   },
   {
    "duration": 21,
    "start_time": "2023-03-01T16:14:41.430Z"
   },
   {
    "duration": 405,
    "start_time": "2023-03-01T16:14:41.452Z"
   },
   {
    "duration": 0,
    "start_time": "2023-03-01T16:14:41.859Z"
   },
   {
    "duration": 1114,
    "start_time": "2023-03-01T16:15:01.934Z"
   },
   {
    "duration": 26,
    "start_time": "2023-03-01T16:15:03.050Z"
   },
   {
    "duration": 15,
    "start_time": "2023-03-01T16:15:03.077Z"
   },
   {
    "duration": 13,
    "start_time": "2023-03-01T16:15:03.094Z"
   },
   {
    "duration": 11,
    "start_time": "2023-03-01T16:15:03.110Z"
   },
   {
    "duration": 9,
    "start_time": "2023-03-01T16:15:03.123Z"
   },
   {
    "duration": 12,
    "start_time": "2023-03-01T16:15:03.134Z"
   },
   {
    "duration": 13,
    "start_time": "2023-03-01T16:15:03.148Z"
   },
   {
    "duration": 19,
    "start_time": "2023-03-01T16:15:03.163Z"
   },
   {
    "duration": 7,
    "start_time": "2023-03-01T16:15:03.184Z"
   },
   {
    "duration": 32,
    "start_time": "2023-03-01T16:15:03.193Z"
   },
   {
    "duration": 196,
    "start_time": "2023-03-01T16:15:03.227Z"
   },
   {
    "duration": 112,
    "start_time": "2023-03-01T16:15:03.425Z"
   },
   {
    "duration": 97,
    "start_time": "2023-03-01T16:18:41.749Z"
   },
   {
    "duration": 986,
    "start_time": "2023-03-01T16:19:04.375Z"
   },
   {
    "duration": 32,
    "start_time": "2023-03-01T16:19:05.362Z"
   },
   {
    "duration": 15,
    "start_time": "2023-03-01T16:19:05.396Z"
   },
   {
    "duration": 12,
    "start_time": "2023-03-01T16:19:05.413Z"
   },
   {
    "duration": 10,
    "start_time": "2023-03-01T16:19:05.427Z"
   },
   {
    "duration": 12,
    "start_time": "2023-03-01T16:19:05.439Z"
   },
   {
    "duration": 23,
    "start_time": "2023-03-01T16:19:05.452Z"
   },
   {
    "duration": 33,
    "start_time": "2023-03-01T16:19:05.477Z"
   },
   {
    "duration": 28,
    "start_time": "2023-03-01T16:19:05.512Z"
   },
   {
    "duration": 14,
    "start_time": "2023-03-01T16:19:05.542Z"
   },
   {
    "duration": 23,
    "start_time": "2023-03-01T16:19:05.558Z"
   },
   {
    "duration": 239,
    "start_time": "2023-03-01T16:19:05.583Z"
   },
   {
    "duration": 100,
    "start_time": "2023-03-01T16:19:05.824Z"
   },
   {
    "duration": 22,
    "start_time": "2023-03-01T16:19:05.926Z"
   },
   {
    "duration": 1035,
    "start_time": "2023-03-01T16:19:16.886Z"
   },
   {
    "duration": 25,
    "start_time": "2023-03-01T16:19:17.923Z"
   },
   {
    "duration": 65,
    "start_time": "2023-03-01T16:19:17.950Z"
   },
   {
    "duration": 20,
    "start_time": "2023-03-01T16:19:18.017Z"
   },
   {
    "duration": 4,
    "start_time": "2023-03-01T16:19:18.039Z"
   },
   {
    "duration": 9,
    "start_time": "2023-03-01T16:19:18.044Z"
   },
   {
    "duration": 15,
    "start_time": "2023-03-01T16:19:18.055Z"
   },
   {
    "duration": 8,
    "start_time": "2023-03-01T16:19:18.072Z"
   },
   {
    "duration": 42,
    "start_time": "2023-03-01T16:19:18.081Z"
   },
   {
    "duration": 7,
    "start_time": "2023-03-01T16:19:18.125Z"
   },
   {
    "duration": 88,
    "start_time": "2023-03-01T16:19:18.134Z"
   },
   {
    "duration": 199,
    "start_time": "2023-03-01T16:19:18.224Z"
   },
   {
    "duration": 4,
    "start_time": "2023-03-01T16:19:18.425Z"
   },
   {
    "duration": 102,
    "start_time": "2023-03-01T16:19:18.431Z"
   },
   {
    "duration": 1102,
    "start_time": "2023-03-01T16:19:23.398Z"
   },
   {
    "duration": 27,
    "start_time": "2023-03-01T16:19:24.502Z"
   },
   {
    "duration": 39,
    "start_time": "2023-03-01T16:19:24.531Z"
   },
   {
    "duration": 45,
    "start_time": "2023-03-01T16:19:24.572Z"
   },
   {
    "duration": 6,
    "start_time": "2023-03-01T16:19:24.619Z"
   },
   {
    "duration": 13,
    "start_time": "2023-03-01T16:19:24.627Z"
   },
   {
    "duration": 24,
    "start_time": "2023-03-01T16:19:24.641Z"
   },
   {
    "duration": 16,
    "start_time": "2023-03-01T16:19:24.666Z"
   },
   {
    "duration": 15,
    "start_time": "2023-03-01T16:19:24.683Z"
   },
   {
    "duration": 14,
    "start_time": "2023-03-01T16:19:24.700Z"
   },
   {
    "duration": 21,
    "start_time": "2023-03-01T16:19:24.715Z"
   },
   {
    "duration": 193,
    "start_time": "2023-03-01T16:19:24.737Z"
   },
   {
    "duration": 192,
    "start_time": "2023-03-01T16:19:24.932Z"
   },
   {
    "duration": 28,
    "start_time": "2023-03-01T16:19:25.126Z"
   },
   {
    "duration": 95,
    "start_time": "2023-03-01T16:22:06.924Z"
   },
   {
    "duration": 64,
    "start_time": "2023-03-01T16:22:37.059Z"
   },
   {
    "duration": 9,
    "start_time": "2023-03-01T16:22:52.491Z"
   },
   {
    "duration": 9,
    "start_time": "2023-03-01T16:22:57.431Z"
   },
   {
    "duration": 1047,
    "start_time": "2023-03-01T16:23:01.601Z"
   },
   {
    "duration": 25,
    "start_time": "2023-03-01T16:23:02.650Z"
   },
   {
    "duration": 30,
    "start_time": "2023-03-01T16:23:02.677Z"
   },
   {
    "duration": 18,
    "start_time": "2023-03-01T16:23:02.709Z"
   },
   {
    "duration": 12,
    "start_time": "2023-03-01T16:23:02.729Z"
   },
   {
    "duration": 26,
    "start_time": "2023-03-01T16:23:02.744Z"
   },
   {
    "duration": 17,
    "start_time": "2023-03-01T16:23:02.772Z"
   },
   {
    "duration": 14,
    "start_time": "2023-03-01T16:23:02.790Z"
   },
   {
    "duration": 10,
    "start_time": "2023-03-01T16:23:02.807Z"
   },
   {
    "duration": 12,
    "start_time": "2023-03-01T16:23:02.818Z"
   },
   {
    "duration": 90,
    "start_time": "2023-03-01T16:23:02.832Z"
   },
   {
    "duration": 187,
    "start_time": "2023-03-01T16:23:02.926Z"
   },
   {
    "duration": 0,
    "start_time": "2023-03-01T16:23:03.115Z"
   },
   {
    "duration": 9,
    "start_time": "2023-03-01T16:23:09.371Z"
   },
   {
    "duration": 1058,
    "start_time": "2023-03-01T16:23:13.796Z"
   },
   {
    "duration": 26,
    "start_time": "2023-03-01T16:23:14.855Z"
   },
   {
    "duration": 15,
    "start_time": "2023-03-01T16:23:14.882Z"
   },
   {
    "duration": 45,
    "start_time": "2023-03-01T16:23:14.898Z"
   },
   {
    "duration": 17,
    "start_time": "2023-03-01T16:23:14.945Z"
   },
   {
    "duration": 66,
    "start_time": "2023-03-01T16:23:14.963Z"
   },
   {
    "duration": 33,
    "start_time": "2023-03-01T16:23:15.031Z"
   },
   {
    "duration": 50,
    "start_time": "2023-03-01T16:23:15.066Z"
   },
   {
    "duration": 10,
    "start_time": "2023-03-01T16:23:15.117Z"
   },
   {
    "duration": 10,
    "start_time": "2023-03-01T16:23:15.129Z"
   },
   {
    "duration": 18,
    "start_time": "2023-03-01T16:23:15.140Z"
   },
   {
    "duration": 172,
    "start_time": "2023-03-01T16:23:15.159Z"
   },
   {
    "duration": 198,
    "start_time": "2023-03-01T16:23:15.333Z"
   },
   {
    "duration": 9,
    "start_time": "2023-03-01T16:23:19.826Z"
   },
   {
    "duration": 993,
    "start_time": "2023-03-01T16:23:24.186Z"
   },
   {
    "duration": 26,
    "start_time": "2023-03-01T16:23:25.181Z"
   },
   {
    "duration": 14,
    "start_time": "2023-03-01T16:23:25.209Z"
   },
   {
    "duration": 10,
    "start_time": "2023-03-01T16:23:25.224Z"
   },
   {
    "duration": 3,
    "start_time": "2023-03-01T16:23:25.236Z"
   },
   {
    "duration": 7,
    "start_time": "2023-03-01T16:23:25.241Z"
   },
   {
    "duration": 11,
    "start_time": "2023-03-01T16:23:25.250Z"
   },
   {
    "duration": 11,
    "start_time": "2023-03-01T16:23:25.263Z"
   },
   {
    "duration": 7,
    "start_time": "2023-03-01T16:23:25.276Z"
   },
   {
    "duration": 7,
    "start_time": "2023-03-01T16:23:25.284Z"
   },
   {
    "duration": 33,
    "start_time": "2023-03-01T16:23:25.293Z"
   },
   {
    "duration": 199,
    "start_time": "2023-03-01T16:23:25.327Z"
   },
   {
    "duration": 106,
    "start_time": "2023-03-01T16:23:25.531Z"
   },
   {
    "duration": 4,
    "start_time": "2023-03-01T16:31:57.126Z"
   },
   {
    "duration": 3,
    "start_time": "2023-03-01T16:32:46.264Z"
   },
   {
    "duration": 11,
    "start_time": "2023-03-01T16:32:46.661Z"
   },
   {
    "duration": 4,
    "start_time": "2023-03-01T16:32:47.022Z"
   },
   {
    "duration": 7,
    "start_time": "2023-03-01T16:32:47.637Z"
   },
   {
    "duration": 4,
    "start_time": "2023-03-01T16:32:49.614Z"
   },
   {
    "duration": 4,
    "start_time": "2023-03-01T16:34:10.870Z"
   },
   {
    "duration": 4,
    "start_time": "2023-03-01T16:34:14.255Z"
   },
   {
    "duration": 1013,
    "start_time": "2023-03-01T16:34:18.652Z"
   },
   {
    "duration": 25,
    "start_time": "2023-03-01T16:34:19.667Z"
   },
   {
    "duration": 14,
    "start_time": "2023-03-01T16:34:19.694Z"
   },
   {
    "duration": 15,
    "start_time": "2023-03-01T16:34:19.709Z"
   },
   {
    "duration": 8,
    "start_time": "2023-03-01T16:34:19.726Z"
   },
   {
    "duration": 10,
    "start_time": "2023-03-01T16:34:19.735Z"
   },
   {
    "duration": 24,
    "start_time": "2023-03-01T16:34:19.746Z"
   },
   {
    "duration": 14,
    "start_time": "2023-03-01T16:34:19.772Z"
   },
   {
    "duration": 8,
    "start_time": "2023-03-01T16:34:19.787Z"
   },
   {
    "duration": 10,
    "start_time": "2023-03-01T16:34:19.797Z"
   },
   {
    "duration": 18,
    "start_time": "2023-03-01T16:34:19.808Z"
   },
   {
    "duration": 97,
    "start_time": "2023-03-01T16:34:19.827Z"
   },
   {
    "duration": 186,
    "start_time": "2023-03-01T16:34:19.926Z"
   },
   {
    "duration": 0,
    "start_time": "2023-03-01T16:34:20.113Z"
   },
   {
    "duration": 4,
    "start_time": "2023-03-01T16:35:42.253Z"
   },
   {
    "duration": 994,
    "start_time": "2023-03-01T16:35:46.363Z"
   },
   {
    "duration": 25,
    "start_time": "2023-03-01T16:35:47.360Z"
   },
   {
    "duration": 16,
    "start_time": "2023-03-01T16:35:47.387Z"
   },
   {
    "duration": 23,
    "start_time": "2023-03-01T16:35:47.405Z"
   },
   {
    "duration": 4,
    "start_time": "2023-03-01T16:35:47.431Z"
   },
   {
    "duration": 18,
    "start_time": "2023-03-01T16:35:47.437Z"
   },
   {
    "duration": 12,
    "start_time": "2023-03-01T16:35:47.457Z"
   },
   {
    "duration": 6,
    "start_time": "2023-03-01T16:35:47.470Z"
   },
   {
    "duration": 6,
    "start_time": "2023-03-01T16:35:47.478Z"
   },
   {
    "duration": 4,
    "start_time": "2023-03-01T16:35:47.486Z"
   },
   {
    "duration": 35,
    "start_time": "2023-03-01T16:35:47.491Z"
   },
   {
    "duration": 105,
    "start_time": "2023-03-01T16:35:47.527Z"
   },
   {
    "duration": 23,
    "start_time": "2023-03-01T16:35:47.634Z"
   },
   {
    "duration": 165,
    "start_time": "2023-03-01T16:35:47.659Z"
   },
   {
    "duration": 95,
    "start_time": "2023-03-01T16:36:02.694Z"
   },
   {
    "duration": 5,
    "start_time": "2023-03-01T16:36:17.493Z"
   },
   {
    "duration": 996,
    "start_time": "2023-03-01T16:36:47.668Z"
   },
   {
    "duration": 25,
    "start_time": "2023-03-01T16:36:48.666Z"
   },
   {
    "duration": 14,
    "start_time": "2023-03-01T16:36:48.693Z"
   },
   {
    "duration": 12,
    "start_time": "2023-03-01T16:36:48.709Z"
   },
   {
    "duration": 4,
    "start_time": "2023-03-01T16:36:48.723Z"
   },
   {
    "duration": 38,
    "start_time": "2023-03-01T16:36:48.728Z"
   },
   {
    "duration": 23,
    "start_time": "2023-03-01T16:36:48.767Z"
   },
   {
    "duration": 5,
    "start_time": "2023-03-01T16:36:48.792Z"
   },
   {
    "duration": 9,
    "start_time": "2023-03-01T16:36:48.798Z"
   },
   {
    "duration": 4,
    "start_time": "2023-03-01T16:36:48.808Z"
   },
   {
    "duration": 15,
    "start_time": "2023-03-01T16:36:48.814Z"
   },
   {
    "duration": 192,
    "start_time": "2023-03-01T16:36:48.830Z"
   },
   {
    "duration": 11,
    "start_time": "2023-03-01T16:36:49.024Z"
   },
   {
    "duration": 186,
    "start_time": "2023-03-01T16:36:49.037Z"
   },
   {
    "duration": 410,
    "start_time": "2023-03-01T16:40:31.483Z"
   },
   {
    "duration": 104,
    "start_time": "2023-03-01T16:42:46.538Z"
   },
   {
    "duration": 563,
    "start_time": "2023-03-01T16:43:32.690Z"
   },
   {
    "duration": 186,
    "start_time": "2023-03-01T16:44:00.817Z"
   },
   {
    "duration": 266,
    "start_time": "2023-03-01T16:44:37.169Z"
   },
   {
    "duration": 101,
    "start_time": "2023-03-01T16:45:12.490Z"
   },
   {
    "duration": 86,
    "start_time": "2023-03-01T16:45:14.274Z"
   },
   {
    "duration": 140,
    "start_time": "2023-03-01T16:45:15.562Z"
   },
   {
    "duration": 90,
    "start_time": "2023-03-01T16:45:19.081Z"
   },
   {
    "duration": 93,
    "start_time": "2023-03-01T16:45:20.817Z"
   },
   {
    "duration": 4,
    "start_time": "2023-03-01T16:47:35.424Z"
   },
   {
    "duration": 4,
    "start_time": "2023-03-01T16:48:03.576Z"
   },
   {
    "duration": 5,
    "start_time": "2023-03-01T16:48:15.279Z"
   },
   {
    "duration": 3,
    "start_time": "2023-03-01T16:48:51.056Z"
   },
   {
    "duration": 119,
    "start_time": "2023-03-01T16:50:38.903Z"
   },
   {
    "duration": 108,
    "start_time": "2023-03-01T16:51:12.209Z"
   },
   {
    "duration": 3,
    "start_time": "2023-03-01T16:54:16.374Z"
   },
   {
    "duration": 13,
    "start_time": "2023-03-01T16:54:16.774Z"
   },
   {
    "duration": 8,
    "start_time": "2023-03-01T16:54:17.280Z"
   },
   {
    "duration": 10,
    "start_time": "2023-03-01T16:54:17.749Z"
   },
   {
    "duration": 3,
    "start_time": "2023-03-01T16:54:18.014Z"
   },
   {
    "duration": 4,
    "start_time": "2023-03-01T16:54:18.365Z"
   },
   {
    "duration": 11,
    "start_time": "2023-03-01T16:54:18.894Z"
   },
   {
    "duration": 1226,
    "start_time": "2023-03-01T16:54:30.567Z"
   },
   {
    "duration": 12,
    "start_time": "2023-03-01T16:54:31.795Z"
   },
   {
    "duration": 149,
    "start_time": "2023-03-01T16:54:31.808Z"
   },
   {
    "duration": 0,
    "start_time": "2023-03-01T16:54:31.960Z"
   },
   {
    "duration": 0,
    "start_time": "2023-03-01T16:54:31.961Z"
   },
   {
    "duration": 0,
    "start_time": "2023-03-01T16:54:31.962Z"
   },
   {
    "duration": 1,
    "start_time": "2023-03-01T16:54:31.963Z"
   },
   {
    "duration": 0,
    "start_time": "2023-03-01T16:54:31.965Z"
   },
   {
    "duration": 0,
    "start_time": "2023-03-01T16:54:31.966Z"
   },
   {
    "duration": 0,
    "start_time": "2023-03-01T16:54:31.968Z"
   },
   {
    "duration": 0,
    "start_time": "2023-03-01T16:54:31.969Z"
   },
   {
    "duration": 0,
    "start_time": "2023-03-01T16:54:31.971Z"
   },
   {
    "duration": 0,
    "start_time": "2023-03-01T16:54:31.972Z"
   },
   {
    "duration": 0,
    "start_time": "2023-03-01T16:54:31.973Z"
   },
   {
    "duration": 0,
    "start_time": "2023-03-01T16:54:31.975Z"
   },
   {
    "duration": 0,
    "start_time": "2023-03-01T16:54:31.976Z"
   },
   {
    "duration": 0,
    "start_time": "2023-03-01T16:54:31.977Z"
   },
   {
    "duration": 0,
    "start_time": "2023-03-01T16:54:31.979Z"
   },
   {
    "duration": 0,
    "start_time": "2023-03-01T16:54:31.980Z"
   },
   {
    "duration": 12,
    "start_time": "2023-03-01T16:54:53.222Z"
   },
   {
    "duration": 3,
    "start_time": "2023-03-01T16:54:56.805Z"
   },
   {
    "duration": 12,
    "start_time": "2023-03-01T16:54:57.445Z"
   },
   {
    "duration": 8,
    "start_time": "2023-03-01T16:54:58.461Z"
   },
   {
    "duration": 13,
    "start_time": "2023-03-01T16:55:32.941Z"
   },
   {
    "duration": 12,
    "start_time": "2023-03-01T16:55:55.845Z"
   },
   {
    "duration": 1217,
    "start_time": "2023-03-01T16:56:01.574Z"
   },
   {
    "duration": 12,
    "start_time": "2023-03-01T16:56:02.793Z"
   },
   {
    "duration": 109,
    "start_time": "2023-03-01T16:56:02.809Z"
   },
   {
    "duration": 0,
    "start_time": "2023-03-01T16:56:02.922Z"
   },
   {
    "duration": 0,
    "start_time": "2023-03-01T16:56:02.923Z"
   },
   {
    "duration": 0,
    "start_time": "2023-03-01T16:56:02.924Z"
   },
   {
    "duration": 0,
    "start_time": "2023-03-01T16:56:02.926Z"
   },
   {
    "duration": 0,
    "start_time": "2023-03-01T16:56:02.927Z"
   },
   {
    "duration": 0,
    "start_time": "2023-03-01T16:56:02.928Z"
   },
   {
    "duration": 0,
    "start_time": "2023-03-01T16:56:02.929Z"
   },
   {
    "duration": 0,
    "start_time": "2023-03-01T16:56:02.930Z"
   },
   {
    "duration": 0,
    "start_time": "2023-03-01T16:56:02.931Z"
   },
   {
    "duration": 0,
    "start_time": "2023-03-01T16:56:02.932Z"
   },
   {
    "duration": 0,
    "start_time": "2023-03-01T16:56:02.933Z"
   },
   {
    "duration": 0,
    "start_time": "2023-03-01T16:56:02.934Z"
   },
   {
    "duration": 0,
    "start_time": "2023-03-01T16:56:02.935Z"
   },
   {
    "duration": 0,
    "start_time": "2023-03-01T16:56:02.937Z"
   },
   {
    "duration": 0,
    "start_time": "2023-03-01T16:56:02.938Z"
   },
   {
    "duration": 0,
    "start_time": "2023-03-01T16:56:02.939Z"
   },
   {
    "duration": 1219,
    "start_time": "2023-03-01T17:00:16.873Z"
   },
   {
    "duration": 13,
    "start_time": "2023-03-01T17:00:18.094Z"
   },
   {
    "duration": 113,
    "start_time": "2023-03-01T17:00:18.112Z"
   },
   {
    "duration": 0,
    "start_time": "2023-03-01T17:00:18.227Z"
   },
   {
    "duration": 0,
    "start_time": "2023-03-01T17:00:18.228Z"
   },
   {
    "duration": 0,
    "start_time": "2023-03-01T17:00:18.229Z"
   },
   {
    "duration": 0,
    "start_time": "2023-03-01T17:00:18.231Z"
   },
   {
    "duration": 0,
    "start_time": "2023-03-01T17:00:18.231Z"
   },
   {
    "duration": 0,
    "start_time": "2023-03-01T17:00:18.232Z"
   },
   {
    "duration": 0,
    "start_time": "2023-03-01T17:00:18.234Z"
   },
   {
    "duration": 0,
    "start_time": "2023-03-01T17:00:18.235Z"
   },
   {
    "duration": 0,
    "start_time": "2023-03-01T17:00:18.236Z"
   },
   {
    "duration": 0,
    "start_time": "2023-03-01T17:00:18.236Z"
   },
   {
    "duration": 0,
    "start_time": "2023-03-01T17:00:18.237Z"
   },
   {
    "duration": 0,
    "start_time": "2023-03-01T17:00:18.238Z"
   },
   {
    "duration": 0,
    "start_time": "2023-03-01T17:00:18.239Z"
   },
   {
    "duration": 0,
    "start_time": "2023-03-01T17:00:18.240Z"
   },
   {
    "duration": 0,
    "start_time": "2023-03-01T17:00:18.242Z"
   },
   {
    "duration": 0,
    "start_time": "2023-03-01T17:00:18.242Z"
   },
   {
    "duration": 1289,
    "start_time": "2023-03-01T17:03:05.319Z"
   },
   {
    "duration": 13,
    "start_time": "2023-03-01T17:03:06.611Z"
   },
   {
    "duration": 110,
    "start_time": "2023-03-01T17:03:06.628Z"
   },
   {
    "duration": 0,
    "start_time": "2023-03-01T17:03:06.740Z"
   },
   {
    "duration": 0,
    "start_time": "2023-03-01T17:03:06.741Z"
   },
   {
    "duration": 0,
    "start_time": "2023-03-01T17:03:06.742Z"
   },
   {
    "duration": 0,
    "start_time": "2023-03-01T17:03:06.743Z"
   },
   {
    "duration": 0,
    "start_time": "2023-03-01T17:03:06.744Z"
   },
   {
    "duration": 0,
    "start_time": "2023-03-01T17:03:06.745Z"
   },
   {
    "duration": 0,
    "start_time": "2023-03-01T17:03:06.746Z"
   },
   {
    "duration": 0,
    "start_time": "2023-03-01T17:03:06.748Z"
   },
   {
    "duration": 0,
    "start_time": "2023-03-01T17:03:06.749Z"
   },
   {
    "duration": 0,
    "start_time": "2023-03-01T17:03:06.749Z"
   },
   {
    "duration": 0,
    "start_time": "2023-03-01T17:03:06.750Z"
   },
   {
    "duration": 0,
    "start_time": "2023-03-01T17:03:06.751Z"
   },
   {
    "duration": 0,
    "start_time": "2023-03-01T17:03:06.752Z"
   },
   {
    "duration": 0,
    "start_time": "2023-03-01T17:03:06.754Z"
   },
   {
    "duration": 0,
    "start_time": "2023-03-01T17:03:06.755Z"
   },
   {
    "duration": 0,
    "start_time": "2023-03-01T17:03:06.755Z"
   },
   {
    "duration": 13,
    "start_time": "2023-03-01T17:05:56.144Z"
   },
   {
    "duration": 12,
    "start_time": "2023-03-01T17:05:57.851Z"
   },
   {
    "duration": 12,
    "start_time": "2023-03-01T17:06:13.160Z"
   },
   {
    "duration": 13,
    "start_time": "2023-03-01T17:09:53.953Z"
   },
   {
    "duration": 13,
    "start_time": "2023-03-01T17:09:57.654Z"
   },
   {
    "duration": 12,
    "start_time": "2023-03-01T17:10:01.135Z"
   },
   {
    "duration": 4,
    "start_time": "2023-03-01T17:12:55.638Z"
   },
   {
    "duration": 14,
    "start_time": "2023-03-01T17:12:56.612Z"
   },
   {
    "duration": 8,
    "start_time": "2023-03-01T17:12:57.719Z"
   },
   {
    "duration": 13,
    "start_time": "2023-03-01T17:13:14.502Z"
   },
   {
    "duration": 2,
    "start_time": "2023-03-01T17:13:17.206Z"
   },
   {
    "duration": 12,
    "start_time": "2023-03-01T17:13:17.965Z"
   },
   {
    "duration": 3,
    "start_time": "2023-03-01T17:16:07.157Z"
   },
   {
    "duration": 12,
    "start_time": "2023-03-01T17:16:07.733Z"
   },
   {
    "duration": 1201,
    "start_time": "2023-03-01T17:16:11.367Z"
   },
   {
    "duration": 12,
    "start_time": "2023-03-01T17:16:12.570Z"
   },
   {
    "duration": 96,
    "start_time": "2023-03-01T17:16:12.583Z"
   },
   {
    "duration": 0,
    "start_time": "2023-03-01T17:16:12.681Z"
   },
   {
    "duration": 0,
    "start_time": "2023-03-01T17:16:12.682Z"
   },
   {
    "duration": 0,
    "start_time": "2023-03-01T17:16:12.683Z"
   },
   {
    "duration": 0,
    "start_time": "2023-03-01T17:16:12.684Z"
   },
   {
    "duration": 0,
    "start_time": "2023-03-01T17:16:12.685Z"
   },
   {
    "duration": 0,
    "start_time": "2023-03-01T17:16:12.686Z"
   },
   {
    "duration": 0,
    "start_time": "2023-03-01T17:16:12.687Z"
   },
   {
    "duration": 0,
    "start_time": "2023-03-01T17:16:12.688Z"
   },
   {
    "duration": 0,
    "start_time": "2023-03-01T17:16:12.689Z"
   },
   {
    "duration": 0,
    "start_time": "2023-03-01T17:16:12.690Z"
   },
   {
    "duration": 0,
    "start_time": "2023-03-01T17:16:12.691Z"
   },
   {
    "duration": 0,
    "start_time": "2023-03-01T17:16:12.692Z"
   },
   {
    "duration": 0,
    "start_time": "2023-03-01T17:16:12.693Z"
   },
   {
    "duration": 0,
    "start_time": "2023-03-01T17:16:12.694Z"
   },
   {
    "duration": 0,
    "start_time": "2023-03-01T17:16:12.695Z"
   },
   {
    "duration": 0,
    "start_time": "2023-03-01T17:16:12.696Z"
   },
   {
    "duration": 28,
    "start_time": "2023-03-01T17:16:45.629Z"
   },
   {
    "duration": 53,
    "start_time": "2023-03-01T17:17:21.940Z"
   },
   {
    "duration": 13,
    "start_time": "2023-03-01T17:17:25.140Z"
   },
   {
    "duration": 36,
    "start_time": "2023-03-01T17:18:36.093Z"
   },
   {
    "duration": 1589,
    "start_time": "2023-03-01T17:25:24.934Z"
   },
   {
    "duration": 144,
    "start_time": "2023-03-01T17:25:26.525Z"
   },
   {
    "duration": 12,
    "start_time": "2023-03-01T17:25:29.754Z"
   },
   {
    "duration": 1370,
    "start_time": "2023-03-01T17:25:33.544Z"
   },
   {
    "duration": 64,
    "start_time": "2023-03-01T17:25:34.916Z"
   },
   {
    "duration": 21,
    "start_time": "2023-03-01T17:25:34.982Z"
   },
   {
    "duration": 25,
    "start_time": "2023-03-01T17:25:35.004Z"
   },
   {
    "duration": 6,
    "start_time": "2023-03-01T17:25:35.031Z"
   },
   {
    "duration": 5,
    "start_time": "2023-03-01T17:25:35.039Z"
   },
   {
    "duration": 11,
    "start_time": "2023-03-01T17:25:35.046Z"
   },
   {
    "duration": 6,
    "start_time": "2023-03-01T17:25:35.059Z"
   },
   {
    "duration": 5,
    "start_time": "2023-03-01T17:25:35.066Z"
   },
   {
    "duration": 33,
    "start_time": "2023-03-01T17:25:35.073Z"
   },
   {
    "duration": 15,
    "start_time": "2023-03-01T17:25:35.107Z"
   },
   {
    "duration": 5,
    "start_time": "2023-03-01T17:25:35.124Z"
   },
   {
    "duration": 121,
    "start_time": "2023-03-01T17:25:35.130Z"
   },
   {
    "duration": 132,
    "start_time": "2023-03-01T17:25:35.254Z"
   },
   {
    "duration": 4,
    "start_time": "2023-03-01T17:25:35.387Z"
   },
   {
    "duration": 102,
    "start_time": "2023-03-01T17:25:35.393Z"
   },
   {
    "duration": 124,
    "start_time": "2023-03-01T17:25:35.496Z"
   },
   {
    "duration": 97,
    "start_time": "2023-03-01T17:25:35.622Z"
   },
   {
    "duration": 79,
    "start_time": "2023-03-01T17:25:35.720Z"
   },
   {
    "duration": 57,
    "start_time": "2023-03-01T18:04:17.885Z"
   },
   {
    "duration": 1271,
    "start_time": "2023-03-01T18:38:26.575Z"
   },
   {
    "duration": 39,
    "start_time": "2023-03-01T18:38:27.848Z"
   },
   {
    "duration": 13,
    "start_time": "2023-03-01T18:38:27.888Z"
   },
   {
    "duration": 12,
    "start_time": "2023-03-01T18:38:27.902Z"
   },
   {
    "duration": 3,
    "start_time": "2023-03-01T18:38:27.917Z"
   },
   {
    "duration": 9,
    "start_time": "2023-03-01T18:38:27.921Z"
   },
   {
    "duration": 8,
    "start_time": "2023-03-01T18:38:27.931Z"
   },
   {
    "duration": 6,
    "start_time": "2023-03-01T18:38:27.941Z"
   },
   {
    "duration": 4,
    "start_time": "2023-03-01T18:38:27.949Z"
   },
   {
    "duration": 33,
    "start_time": "2023-03-01T18:38:27.954Z"
   },
   {
    "duration": 10,
    "start_time": "2023-03-01T18:38:27.988Z"
   },
   {
    "duration": 112,
    "start_time": "2023-03-01T18:38:28.000Z"
   },
   {
    "duration": 120,
    "start_time": "2023-03-01T18:38:28.114Z"
   },
   {
    "duration": 4,
    "start_time": "2023-03-01T18:38:28.238Z"
   },
   {
    "duration": 49,
    "start_time": "2023-03-01T18:38:28.244Z"
   },
   {
    "duration": 106,
    "start_time": "2023-03-01T18:38:28.294Z"
   },
   {
    "duration": 87,
    "start_time": "2023-03-01T18:38:28.403Z"
   },
   {
    "duration": 98,
    "start_time": "2023-03-01T18:38:28.492Z"
   },
   {
    "duration": 1858,
    "start_time": "2023-03-01T20:47:11.132Z"
   },
   {
    "duration": 89,
    "start_time": "2023-03-01T20:47:12.992Z"
   },
   {
    "duration": 11,
    "start_time": "2023-03-01T20:47:13.083Z"
   },
   {
    "duration": 10,
    "start_time": "2023-03-01T20:47:13.095Z"
   },
   {
    "duration": 4,
    "start_time": "2023-03-01T20:47:13.107Z"
   },
   {
    "duration": 7,
    "start_time": "2023-03-01T20:47:13.112Z"
   },
   {
    "duration": 7,
    "start_time": "2023-03-01T20:47:13.120Z"
   },
   {
    "duration": 8,
    "start_time": "2023-03-01T20:47:13.128Z"
   },
   {
    "duration": 4,
    "start_time": "2023-03-01T20:47:13.137Z"
   },
   {
    "duration": 17,
    "start_time": "2023-03-01T20:47:13.142Z"
   },
   {
    "duration": 22,
    "start_time": "2023-03-01T20:47:13.160Z"
   },
   {
    "duration": 107,
    "start_time": "2023-03-01T20:47:13.183Z"
   },
   {
    "duration": 111,
    "start_time": "2023-03-01T20:47:13.292Z"
   },
   {
    "duration": 3,
    "start_time": "2023-03-01T20:47:13.406Z"
   },
   {
    "duration": 43,
    "start_time": "2023-03-01T20:47:13.411Z"
   },
   {
    "duration": 120,
    "start_time": "2023-03-01T20:47:13.456Z"
   },
   {
    "duration": 10,
    "start_time": "2023-03-01T20:47:13.578Z"
   },
   {
    "duration": 107,
    "start_time": "2023-03-01T20:47:13.649Z"
   },
   {
    "duration": 52,
    "start_time": "2023-03-02T10:01:25.955Z"
   },
   {
    "duration": 64,
    "start_time": "2023-03-02T17:21:40.131Z"
   },
   {
    "duration": 59,
    "start_time": "2023-03-02T19:48:52.263Z"
   }
  ],
  "kernelspec": {
   "display_name": "Python 3 (ipykernel)",
   "language": "python",
   "name": "python3"
  },
  "language_info": {
   "codemirror_mode": {
    "name": "ipython",
    "version": 3
   },
   "file_extension": ".py",
   "mimetype": "text/x-python",
   "name": "python",
   "nbconvert_exporter": "python",
   "pygments_lexer": "ipython3",
   "version": "3.9.13"
  },
  "toc": {
   "base_numbering": 1,
   "nav_menu": {},
   "number_sections": true,
   "sideBar": true,
   "skip_h1_title": true,
   "title_cell": "Содержание",
   "title_sidebar": "Contents",
   "toc_cell": true,
   "toc_position": {},
   "toc_section_display": true,
   "toc_window_display": true
  }
 },
 "nbformat": 4,
 "nbformat_minor": 2
}
